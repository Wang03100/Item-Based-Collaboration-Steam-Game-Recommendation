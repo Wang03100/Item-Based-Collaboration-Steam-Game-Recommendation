{
 "cells": [
  {
   "cell_type": "markdown",
   "id": "f9da19b0",
   "metadata": {},
   "source": [
    "# Item-Based KNN Implementation"
   ]
  },
  {
   "cell_type": "code",
   "execution_count": null,
   "id": "cd259d48",
   "metadata": {},
   "outputs": [
    {
     "name": "stdout",
     "output_type": "stream",
     "text": [
      "Similar to TF2: [(np.int64(220), np.float64(0.1696179999538573)), (np.int64(4000), np.float64(0.16346879795321323)), (np.int64(550), np.float64(0.1518258399555814)), (np.int64(620), np.float64(0.150135515937316)), (np.int64(304930), np.float64(0.14137825543384552))]\n"
     ]
    }
   ],
   "source": [
    "# Load sparse matrix and setup KNN\n",
    "from sklearn.neighbors import NearestNeighbors\n",
    "import pandas as pd\n",
    "import pickle\n",
    "\n",
    "item_user_matrix, game_encoder, user_encoder = pickle.load(open('../data/sparse_matrix_data.pkl', 'rb'))\n",
    "metadata = pd.read_csv('../data/game_metadata.csv')\n",
    "rec = pd.read_csv('../data/recommendations_enhanced.csv')\n",
    "\n",
    "# Setup KNN for item-based recommendations\n",
    "knn_model = NearestNeighbors(\n",
    "    metric='cosine',    # Perfect for user preference similarity\n",
    "    algorithm='brute',  # Required for cosine with sparse matrices\n",
    "    n_jobs=-1          # Use all CPU cores\n",
    ")\n",
    "knn_model.fit(item_user_matrix)\n",
    "\n",
    "# Create recommendation function\n",
    "def get_similar_games(game_id, n_recommendations=5):\n",
    "    \"\"\"Game ID -> Users who played it -> Similar games\"\"\"\n",
    "    if game_id not in game_encoder.classes_:\n",
    "        print(f\"Game {game_id} not found in game_encoder\")\n",
    "        return None, None\n",
    "        \n",
    "    # Convert game_id to matrix index\n",
    "    game_idx = game_encoder.transform([game_id])[0]\n",
    "    \n",
    "    # Get the game's user pattern (who played this game)\n",
    "    game_vector = item_user_matrix[game_idx]\n",
    "    \n",
    "    # Find similar games based on shared users\n",
    "    distances, indices = knn_model.kneighbors(\n",
    "        game_vector, \n",
    "        n_neighbors=n_recommendations + 1  # +1 to exclude self\n",
    "    )\n",
    "    \n",
    "    # Convert back to game IDs (excluding input game)\n",
    "    similar_game_indices = indices[0][1:]  # Skip first (self)\n",
    "    similarities = 1 - distances[0][1:]    # Convert distance to similarity\n",
    "    \n",
    "    return game_encoder.inverse_transform(similar_game_indices), similarities\n",
    "\n",
    "# Test with known games (15 min)\n",
    "game_ids, scores = get_similar_games(440)  # Team Fortress 2\n",
    "print(f\"Similar to TF2: {list(zip(game_ids, scores))}\")"
   ]
  },
  {
   "cell_type": "code",
   "execution_count": 11,
   "id": "e990d93f",
   "metadata": {},
   "outputs": [
    {
     "name": "stdout",
     "output_type": "stream",
     "text": [
      "Game 570 not found in game_encoder\n",
      "Similar game IDs for 570: None\n",
      "Similarities: None\n"
     ]
    }
   ],
   "source": [
    "# Check what get_similar_games returns for game 570\n",
    "similar_ids, similarities = get_similar_games(570)\n",
    "print(f\"Similar game IDs for 570: {similar_ids}\")\n",
    "print(f\"Similarities: {similarities}\")"
   ]
  },
  {
   "cell_type": "code",
<<<<<<< HEAD
   "execution_count": 14,
=======
   "execution_count": 12,
>>>>>>> d6f6cceee02cea4f876ef3cfaf96b13ff42e1c4a
   "id": "88c8ce98",
   "metadata": {},
   "outputs": [
    {
     "name": "stdout",
     "output_type": "stream",
     "text": [
      "\n",
      "=== Recommendations for Game 440 ===\n",
      "1. Half-Life 2 - Valve (0.170)\n",
      "2. Garry's Mod - Facepunch Studios (0.163)\n",
      "3. Left 4 Dead 2 - Valve (0.152)\n",
      "4. Portal 2 - Valve (0.150)\n",
      "5. Unturned - Smartly Dressed Games (0.141)\n",
      "\n",
      "=== Recommendations for Game 730 ===\n",
      "1. Grand Theft Auto V Legacy - Rockstar North (0.084)\n",
      "2. Garry's Mod - Facepunch Studios (0.075)\n",
      "3. Rust - Facepunch Studios (0.074)\n",
      "4. Left 4 Dead 2 - Valve (0.072)\n",
      "5. Tom Clancy's Rainbow Six Siege - Ubisoft Montreal (0.072)\n",
      "\n",
      "=== Recommendations for Game 570 ===\n",
      "Game 570 not found in game_encoder\n",
      "Game 570 not found in dataset\n"
     ]
    }
   ],
   "source": [
    "# Add metadata to results\n",
    "def get_rich_recommendations(game_id, n_recommendations=5):\n",
    "    \"\"\"Return recommendations with game names, developers, similarity scores\"\"\"\n",
    "    try:\n",
    "        similar_game_ids, similarities = get_similar_games(game_id, n_recommendations)\n",
    "        if similar_game_ids is None:\n",
    "            print(f\"Game {game_id} not found in dataset\")\n",
    "            return []\n",
    "        \n",
    "        # Add metadata for human-readable results\n",
    "        recommendations = []\n",
    "        for game_id_rec, similarity in zip(similar_game_ids, similarities):\n",
    "            game_info = metadata[metadata['app_id'] == game_id_rec].iloc[0]\n",
    "            recommendations.append({\n",
    "                'app_id': int(game_id_rec),\n",
    "                'name': game_info['name'],\n",
    "                'developer': game_info.get('developer', 'Unknown'),\n",
    "                'similarity_score': float(similarity)\n",
    "            })\n",
    "        return recommendations\n",
    "    except Exception as e:\n",
    "        return f\"Error generating recommendations: {str(e)}\"\n",
    "\n",
    "# Test with multiple games\n",
    "test_games = [440, 730, 570]  # TF2, Counter-Strike, Dota 2\n",
    "for game_id in test_games:\n",
    "    print(f\"\\n=== Recommendations for Game {game_id} ===\")\n",
    "    recs = get_rich_recommendations(game_id)\n",
    "    for i, rec in enumerate(recs, 1):\n",
    "        print(f\"{i}. {rec['name']} - {rec['developer']} ({rec['similarity_score']:.3f})\")\n",
    "\n",
    "# Save the complete system\n",
    "pickle.dump((knn_model, game_encoder, user_encoder, metadata), \n",
    "           open('../data/recommendation_system.pkl', 'wb'))"
   ]
  }
 ],
 "metadata": {
  "kernelspec": {
   "display_name": ".venv",
   "language": "python",
   "name": "python3"
  },
  "language_info": {
   "codemirror_mode": {
    "name": "ipython",
    "version": 3
   },
   "file_extension": ".py",
   "mimetype": "text/x-python",
   "name": "python",
   "nbconvert_exporter": "python",
   "pygments_lexer": "ipython3",
   "version": "3.13.0"
  }
 },
 "nbformat": 4,
 "nbformat_minor": 5
}
