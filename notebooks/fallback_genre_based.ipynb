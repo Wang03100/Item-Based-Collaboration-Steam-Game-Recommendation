{
 "cells": [
  {
   "cell_type": "code",
   "execution_count": 29,
   "id": "431925ee",
   "metadata": {},
   "outputs": [],
   "source": [
    "import json\n",
    "import requests\n",
    "import time"
   ]
  },
  {
   "cell_type": "markdown",
   "id": "54a4fa80",
   "metadata": {},
   "source": [
    "# Genre based SteamSpy API fallback"
   ]
  },
  {
   "cell_type": "code",
   "execution_count": 30,
   "id": "3ac13f39",
   "metadata": {},
   "outputs": [],
   "source": [
    "def genre_finder_steamspy(game_id):\n",
    "    try: \n",
    "        response = requests.get(\n",
    "            f\"https://steamspy.com/api.php?request=appdetails&appid={game_id}\"\n",
    "        )\n",
    "        game_data = None\n",
    "        if response.status_code == 200:\n",
    "            game_data = response.json()\n",
    "\n",
    "        if game_data and 'genre' in game_data:\n",
    "            genre = game_data['genre']\n",
    "            print(f\"Found genre for {game_id}: {genre}\")\n",
    "            return genre\n",
    "    except Exception as e:\n",
    "        print(f\"Error getting genre for {game_id}: {e}\")\n",
    "        return None"
   ]
  },
  {
   "cell_type": "code",
   "execution_count": 31,
   "id": "6677c433",
   "metadata": {},
   "outputs": [],
   "source": [
    "def get_top_genre(genre, exclusion, n_games, max_entry=50):\n",
    "    \"\"\"Get top N games from same genre, excluding specified game, usualy self\"\"\"\n",
    "    try:\n",
    "        response = requests.get(\"https://steamspy.com/api.php\", params={\n",
    "            \"request\": \"genre\", \n",
    "            \"genre\": genre\n",
    "        })\n",
    "\n",
    "        # if request fails:\n",
    "        if response.status_code != 200:\n",
    "            print(f\"API request failed with status {response.status_code}\")\n",
    "            return []\n",
    "        # if response is empty\n",
    "        genre_data = response.json() # Games should already be arranged on popularity\n",
    "        if not genre_data:\n",
    "            print(f\"API Response Empty\")\n",
    "            return []\n",
    "        \n",
    "        # Convert to list\n",
    "        game_items = list(genre_data.items())[:max_entry]  # Limit processing\n",
    "\n",
    "        # providing recomendations\n",
    "        recommendations = []\n",
    "        for app_id_str, game_data in game_items:\n",
    "            if len(recommendations) >= n_games:\n",
    "                break\n",
    "            \n",
    "            app_id = int(app_id_str)\n",
    "            if exclusion and app_id == exclusion:\n",
    "                continue\n",
    "            \n",
    "            if game_data.get('name') and game_data.get('developer'):\n",
    "                recommendations.append({\n",
    "                    'app_id': app_id,\n",
    "                    'name': game_data['name'],\n",
    "                    'developer': game_data.get('developer'),\n",
    "                    'similarity_score': 0.8  # Default for genre-based\n",
    "                })\n",
    "        \n",
    "        print(f\"Found {len(recommendations)} {genre} games from API\")\n",
    "        return recommendations\n",
    "    except Exception as e:\n",
    "        print(f\"Error getting genre games: {e}\")\n",
    "        return []"
   ]
  },
  {
   "cell_type": "markdown",
   "id": "4a97a6ec",
   "metadata": {},
   "source": [
    "# Testing"
   ]
  },
  {
   "cell_type": "code",
   "execution_count": 32,
   "id": "3ae64b80",
   "metadata": {},
   "outputs": [
    {
     "name": "stdout",
     "output_type": "stream",
     "text": [
      "\n",
      "=== Testing with known games ===\n",
      "Found genre for 440: Action, Free To Play\n",
      "Found 5 Action, Free To Play games from API\n",
      "Game 440 -> Genre: Action, Free To Play -> 5 recommendations\n",
      "  - Counter-Strike: Global Offensive (Valve): Similarity Score - 0.8\n",
      "  - Heroes & Generals (TLM Partners): Similarity Score - 0.8\n",
      "  - Halo Infinite (343 Industries): Similarity Score - 0.8\n",
      "  - Ring of Elysium (Aurora Studio): Similarity Score - 0.8\n",
      "  - Black Squad (VALOFE, NS STUDIO): Similarity Score - 0.8\n",
      "Found genre for 413150: Indie, RPG, Simulation\n",
      "Found 5 Indie, RPG, Simulation games from API\n",
      "Game 413150 -> Genre: Indie, RPG, Simulation -> 5 recommendations\n",
      "  - Project Zomboid (The Indie Stone): Similarity Score - 0.8\n",
      "  - Don't Starve Together (Klei Entertainment): Similarity Score - 0.8\n",
      "  - 7 Days to Die (The Fun Pimps): Similarity Score - 0.8\n",
      "  - Mount & Blade II: Bannerlord (TaleWorlds Entertainment): Similarity Score - 0.8\n",
      "  - Clicker Heroes (Playsaurus): Similarity Score - 0.8\n",
      "Found genre for 1030300: Action, Adventure, Indie\n",
      "Found 5 Action, Adventure, Indie games from API\n",
      "Game 1030300 -> Genre: Action, Adventure, Indie -> 5 recommendations\n",
      "  - Palworld (Pocketpair): Similarity Score - 0.8\n",
      "  - Terraria (Re-Logic): Similarity Score - 0.8\n",
      "  - Rust (Facepunch Studios): Similarity Score - 0.8\n",
      "  - ARK: Survival Evolved (Studio Wildcard, Instinct Games, Efecto Studios, Virtual Basement LLC): Similarity Score - 0.8\n",
      "  - The Forest (Endnight Games Ltd): Similarity Score - 0.8\n",
      "\n",
      "=== Testing with unknown games ===\n",
      "Testing fallback for 999999\n",
      "Found genre for 999999: \n",
      "No genre found for 999999\n",
      "Testing fallback for 123456\n",
      "Found genre for 123456: None\n",
      "No genre found for 123456\n"
     ]
    }
   ],
   "source": [
    "def test_genre_fallback():\n",
    "    \"\"\"Test the genre fallback system with unknown games\"\"\"\n",
    "    \n",
    "    # Test with some real games first to verify system works\n",
    "    test_known = [440, 413150, 1030300]  # TF2, Stardew Valley, Hollow Knight: Silksong\n",
    "    num_rec = 5\n",
    "    print(\"\\n=== Testing with known games ===\")\n",
    "    for game_id in test_known:\n",
    "        genre = genre_finder_steamspy(game_id)\n",
    "        if genre:\n",
    "            recs = get_top_genre(\n",
    "                genre, \n",
    "                game_id, \n",
    "                n_games=num_rec\n",
    "            )\n",
    "            print(f\"Game {game_id} -> Genre: {genre} -> {len(recs)} recommendations\")\n",
    "            for rec in recs[:num_rec]:\n",
    "                print(f\"  - {rec['name']} ({rec['developer']}): Similarity Score - {rec['similarity_score']}\")\n",
    "        else:\n",
    "            print(f\"No genre found for game {game_id}\")\n",
    "    \n",
    "    # Test with non-existent games\n",
    "    test_unknown = [999999, 123456]  # Non-existent games\n",
    "    print(\"\\n=== Testing with unknown games ===\")\n",
    "    for game_id in test_unknown:\n",
    "        print(f\"Testing fallback for {game_id}\")\n",
    "        genre = genre_finder_steamspy(game_id)\n",
    "        if genre:\n",
    "            recs = get_top_genre(genre, exclude_game_id=game_id)\n",
    "            print(f\"Genre: {genre}, Recommendations: {len(recs)}\")\n",
    "        else:\n",
    "            print(f\"No genre found for {game_id}\")\n",
    "\n",
    "# Run the test\n",
    "if __name__ == \"__main__\":\n",
    "    test_genre_fallback()"
   ]
  }
 ],
 "metadata": {
  "kernelspec": {
   "display_name": ".venv",
   "language": "python",
   "name": "python3"
  },
  "language_info": {
   "codemirror_mode": {
    "name": "ipython",
    "version": 3
   },
   "file_extension": ".py",
   "mimetype": "text/x-python",
   "name": "python",
   "nbconvert_exporter": "python",
   "pygments_lexer": "ipython3",
   "version": "3.13.0"
  }
 },
 "nbformat": 4,
 "nbformat_minor": 5
}
