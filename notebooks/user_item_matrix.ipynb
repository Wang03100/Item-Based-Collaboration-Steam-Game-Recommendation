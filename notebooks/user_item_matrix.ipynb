{
 "cells": [
  {
   "cell_type": "markdown",
   "id": "dd0a205a",
   "metadata": {},
   "source": [
    "# Loading Data and Overview"
   ]
  },
  {
   "cell_type": "code",
   "execution_count": 2,
   "id": "d86ae3a5",
   "metadata": {},
   "outputs": [
    {
     "name": "stdout",
     "output_type": "stream",
     "text": [
      "Interactions shape: (17398025, 3)\n",
      "Expected: (17398025, 3) interactions with user_id, app_id, rating columns\n"
     ]
    }
   ],
   "source": [
    "import pandas as pd\n",
    "import numpy as np\n",
    "from scipy.sparse import coo_matrix, csr_matrix\n",
    "from sklearn.preprocessing import LabelEncoder\n",
    "import matplotlib.pyplot as plt\n",
    "\n",
    "# Load clean data\n",
    "interactions = pd.read_csv('../data/clean_interactions.csv')\n",
    "metadata = pd.read_csv('../data/game_metadata.csv')\n",
    "\n",
    "print(f\"Interactions shape: {interactions.shape}\")\n",
    "print(f\"Expected: {interactions.shape} interactions with user_id, app_id, rating columns\")\n"
   ]
  },
  {
   "cell_type": "markdown",
   "id": "e596826e",
   "metadata": {},
   "source": [
    "# Create sparse item-user matrix"
   ]
  },
  {
   "cell_type": "code",
   "execution_count": 3,
   "id": "9cbc2b96",
   "metadata": {},
   "outputs": [
    {
     "name": "stdout",
     "output_type": "stream",
     "text": [
      "Encoded users: 1,579,456\n",
      "Encoded games: 20,156\n",
      "Matrix shape: (20156, 1579456)\n",
      "Memory usage: 132.7 MB\n",
      "Sparsity: 99.95%\n",
      "Non-zero elements: 17,398,011\n"
     ]
    }
   ],
   "source": [
    "# Encode IDs to compress matrix indices (memory optimization)\n",
    "user_encoder = LabelEncoder()\n",
    "game_encoder = LabelEncoder()\n",
    "\n",
    "users_encoded = user_encoder.fit_transform(interactions['user_id'])\n",
    "games_encoded = game_encoder.fit_transform(interactions['app_id'])\n",
    "\n",
    "print(f\"Encoded users: {len(user_encoder.classes_):,}\")\n",
    "print(f\"Encoded games: {len(game_encoder.classes_):,}\")\n",
    "\n",
    "# Create Item-User matrix (games as rows, users as columns)\n",
    "item_user_matrix = coo_matrix(\n",
    "    (interactions['rating'].values, (games_encoded, users_encoded)),\n",
    "    shape=(len(game_encoder.classes_), len(user_encoder.classes_))\n",
    ").tocsr()\n",
    "\n",
    "# Verify memory efficiency\n",
    "print(f\"Matrix shape: {item_user_matrix.shape}\")  # Should be ~20K x 1.6M\n",
    "print(f\"Memory usage: {item_user_matrix.data.nbytes / 1024**2:.1f} MB\")  # Should be ~199MB\n",
    "print(f\"Sparsity: {(1 - item_user_matrix.nnz / np.prod(item_user_matrix.shape)) * 100:.2f}%\")\n",
    "print(f\"Non-zero elements: {item_user_matrix.nnz:,}\")\n",
    "\n",
    "# Save encoders and matrix\n",
    "import pickle\n",
    "pickle.dump((item_user_matrix, game_encoder, user_encoder), \n",
    "           open('../data/sparse_matrix_data.pkl', 'wb'))"
   ]
  }
 ],
 "metadata": {
  "kernelspec": {
   "display_name": ".venv",
   "language": "python",
   "name": "python3"
  },
  "language_info": {
   "codemirror_mode": {
    "name": "ipython",
    "version": 3
   },
   "file_extension": ".py",
   "mimetype": "text/x-python",
   "name": "python",
   "nbconvert_exporter": "python",
   "pygments_lexer": "ipython3",
   "version": "3.13.0"
  }
 },
 "nbformat": 4,
 "nbformat_minor": 5
}
